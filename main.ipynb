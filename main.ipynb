{
 "cells": [
  {
   "cell_type": "markdown",
   "id": "8321fb95",
   "metadata": {},
   "source": [
    "# Credit Scoring Analysis and Prediction\n",
    "For analysis and predictive analysis, i follow through the data analysis process of data cleaning, exploration, preprocess and application.\n",
    "\n",
    "###### Data Source: From DataTalksClub ML Zoomcamp GitHub Repo"
   ]
  },
  {
   "cell_type": "code",
   "execution_count": 1,
   "id": "ac7cf6da",
   "metadata": {},
   "outputs": [],
   "source": [
    "import numpy as np\n",
    "import pandas as pd\n",
    "\n",
    "import matplotlib.pyplot as plt\n",
    "import seaborn as sns\n",
    "\n",
    "%matplotlib inline"
   ]
  },
  {
   "cell_type": "code",
   "execution_count": 2,
   "id": "c06c2610",
   "metadata": {},
   "outputs": [],
   "source": [
    "data = pd.read_csv('CreditScoring.csv')"
   ]
  },
  {
   "cell_type": "code",
   "execution_count": 3,
   "id": "af405bda",
   "metadata": {},
   "outputs": [
    {
     "data": {
      "text/html": [
       "<div>\n",
       "<style scoped>\n",
       "    .dataframe tbody tr th:only-of-type {\n",
       "        vertical-align: middle;\n",
       "    }\n",
       "\n",
       "    .dataframe tbody tr th {\n",
       "        vertical-align: top;\n",
       "    }\n",
       "\n",
       "    .dataframe thead th {\n",
       "        text-align: right;\n",
       "    }\n",
       "</style>\n",
       "<table border=\"1\" class=\"dataframe\">\n",
       "  <thead>\n",
       "    <tr style=\"text-align: right;\">\n",
       "      <th></th>\n",
       "      <th>Status</th>\n",
       "      <th>Seniority</th>\n",
       "      <th>Home</th>\n",
       "      <th>Time</th>\n",
       "      <th>Age</th>\n",
       "      <th>Marital</th>\n",
       "      <th>Records</th>\n",
       "      <th>Job</th>\n",
       "      <th>Expenses</th>\n",
       "      <th>Income</th>\n",
       "      <th>Assets</th>\n",
       "      <th>Debt</th>\n",
       "      <th>Amount</th>\n",
       "      <th>Price</th>\n",
       "    </tr>\n",
       "  </thead>\n",
       "  <tbody>\n",
       "    <tr>\n",
       "      <th>0</th>\n",
       "      <td>1</td>\n",
       "      <td>9</td>\n",
       "      <td>1</td>\n",
       "      <td>60</td>\n",
       "      <td>30</td>\n",
       "      <td>2</td>\n",
       "      <td>1</td>\n",
       "      <td>3</td>\n",
       "      <td>73</td>\n",
       "      <td>129</td>\n",
       "      <td>0</td>\n",
       "      <td>0</td>\n",
       "      <td>800</td>\n",
       "      <td>846</td>\n",
       "    </tr>\n",
       "    <tr>\n",
       "      <th>1</th>\n",
       "      <td>1</td>\n",
       "      <td>17</td>\n",
       "      <td>1</td>\n",
       "      <td>60</td>\n",
       "      <td>58</td>\n",
       "      <td>3</td>\n",
       "      <td>1</td>\n",
       "      <td>1</td>\n",
       "      <td>48</td>\n",
       "      <td>131</td>\n",
       "      <td>0</td>\n",
       "      <td>0</td>\n",
       "      <td>1000</td>\n",
       "      <td>1658</td>\n",
       "    </tr>\n",
       "    <tr>\n",
       "      <th>2</th>\n",
       "      <td>2</td>\n",
       "      <td>10</td>\n",
       "      <td>2</td>\n",
       "      <td>36</td>\n",
       "      <td>46</td>\n",
       "      <td>2</td>\n",
       "      <td>2</td>\n",
       "      <td>3</td>\n",
       "      <td>90</td>\n",
       "      <td>200</td>\n",
       "      <td>3000</td>\n",
       "      <td>0</td>\n",
       "      <td>2000</td>\n",
       "      <td>2985</td>\n",
       "    </tr>\n",
       "    <tr>\n",
       "      <th>3</th>\n",
       "      <td>1</td>\n",
       "      <td>0</td>\n",
       "      <td>1</td>\n",
       "      <td>60</td>\n",
       "      <td>24</td>\n",
       "      <td>1</td>\n",
       "      <td>1</td>\n",
       "      <td>1</td>\n",
       "      <td>63</td>\n",
       "      <td>182</td>\n",
       "      <td>2500</td>\n",
       "      <td>0</td>\n",
       "      <td>900</td>\n",
       "      <td>1325</td>\n",
       "    </tr>\n",
       "    <tr>\n",
       "      <th>4</th>\n",
       "      <td>1</td>\n",
       "      <td>0</td>\n",
       "      <td>1</td>\n",
       "      <td>36</td>\n",
       "      <td>26</td>\n",
       "      <td>1</td>\n",
       "      <td>1</td>\n",
       "      <td>1</td>\n",
       "      <td>46</td>\n",
       "      <td>107</td>\n",
       "      <td>0</td>\n",
       "      <td>0</td>\n",
       "      <td>310</td>\n",
       "      <td>910</td>\n",
       "    </tr>\n",
       "  </tbody>\n",
       "</table>\n",
       "</div>"
      ],
      "text/plain": [
       "   Status  Seniority  Home  Time  Age  Marital  Records  Job  Expenses  \\\n",
       "0       1          9     1    60   30        2        1    3        73   \n",
       "1       1         17     1    60   58        3        1    1        48   \n",
       "2       2         10     2    36   46        2        2    3        90   \n",
       "3       1          0     1    60   24        1        1    1        63   \n",
       "4       1          0     1    36   26        1        1    1        46   \n",
       "\n",
       "   Income  Assets  Debt  Amount  Price  \n",
       "0     129       0     0     800    846  \n",
       "1     131       0     0    1000   1658  \n",
       "2     200    3000     0    2000   2985  \n",
       "3     182    2500     0     900   1325  \n",
       "4     107       0     0     310    910  "
      ]
     },
     "execution_count": 3,
     "metadata": {},
     "output_type": "execute_result"
    }
   ],
   "source": [
    "data.head()"
   ]
  },
  {
   "cell_type": "markdown",
   "id": "25cd1c0a",
   "metadata": {},
   "source": [
    "### Data Preprocessing"
   ]
  },
  {
   "cell_type": "code",
   "execution_count": 4,
   "id": "ec926508",
   "metadata": {},
   "outputs": [],
   "source": [
    "# convert all column names to lowercase\n",
    "data.columns = data.columns.str.lower()"
   ]
  },
  {
   "cell_type": "code",
   "execution_count": 5,
   "id": "b12d5561",
   "metadata": {},
   "outputs": [
    {
     "data": {
      "text/plain": [
       "Index(['status', 'seniority', 'home', 'time', 'age', 'marital', 'records',\n",
       "       'job', 'expenses', 'income', 'assets', 'debt', 'amount', 'price'],\n",
       "      dtype='object')"
      ]
     },
     "execution_count": 5,
     "metadata": {},
     "output_type": "execute_result"
    }
   ],
   "source": [
    "data.columns"
   ]
  },
  {
   "cell_type": "code",
   "execution_count": 6,
   "id": "cef369f2",
   "metadata": {},
   "outputs": [],
   "source": [
    "# change all categorical column with number to their actual english meaning.\n",
    "data.status = data.status.map({0:'unk', 1: 'ok', 2:'default'})"
   ]
  },
  {
   "cell_type": "code",
   "execution_count": 7,
   "id": "db1126ee",
   "metadata": {},
   "outputs": [],
   "source": [
    "data.home = data.home.map({1:\"rent\", 2:\"owner\", 3:\"private\", 4:\"ignore\", 5:\"parents\", 6:\"other\", 0:'unk'})"
   ]
  },
  {
   "cell_type": "code",
   "execution_count": 8,
   "id": "bf1ca8e4",
   "metadata": {},
   "outputs": [],
   "source": [
    "data.marital = data.marital.map({1:\"single\", 2:\"married\", 3:\"widow\", 4:\"separated\", 5:\"divorced\", 0:'unk'})"
   ]
  },
  {
   "cell_type": "code",
   "execution_count": 9,
   "id": "4354b03b",
   "metadata": {},
   "outputs": [],
   "source": [
    "data.records = data.records.map({1:\"no\", 2:\"yes\", 0:'unk'})"
   ]
  },
  {
   "cell_type": "code",
   "execution_count": 10,
   "id": "c2432a7a",
   "metadata": {},
   "outputs": [],
   "source": [
    "data.job = data.job.map({1:\"fixed\", 2:\"partime\", 3:\"freelance\", 4:\"others\", 0:'unk'})"
   ]
  },
  {
   "cell_type": "code",
   "execution_count": 11,
   "id": "f9ba50b7",
   "metadata": {},
   "outputs": [
    {
     "data": {
      "text/html": [
       "<div>\n",
       "<style scoped>\n",
       "    .dataframe tbody tr th:only-of-type {\n",
       "        vertical-align: middle;\n",
       "    }\n",
       "\n",
       "    .dataframe tbody tr th {\n",
       "        vertical-align: top;\n",
       "    }\n",
       "\n",
       "    .dataframe thead th {\n",
       "        text-align: right;\n",
       "    }\n",
       "</style>\n",
       "<table border=\"1\" class=\"dataframe\">\n",
       "  <thead>\n",
       "    <tr style=\"text-align: right;\">\n",
       "      <th></th>\n",
       "      <th>status</th>\n",
       "      <th>seniority</th>\n",
       "      <th>home</th>\n",
       "      <th>time</th>\n",
       "      <th>age</th>\n",
       "      <th>marital</th>\n",
       "      <th>records</th>\n",
       "      <th>job</th>\n",
       "      <th>expenses</th>\n",
       "      <th>income</th>\n",
       "      <th>assets</th>\n",
       "      <th>debt</th>\n",
       "      <th>amount</th>\n",
       "      <th>price</th>\n",
       "    </tr>\n",
       "  </thead>\n",
       "  <tbody>\n",
       "    <tr>\n",
       "      <th>0</th>\n",
       "      <td>ok</td>\n",
       "      <td>9</td>\n",
       "      <td>rent</td>\n",
       "      <td>60</td>\n",
       "      <td>30</td>\n",
       "      <td>married</td>\n",
       "      <td>no</td>\n",
       "      <td>freelance</td>\n",
       "      <td>73</td>\n",
       "      <td>129</td>\n",
       "      <td>0</td>\n",
       "      <td>0</td>\n",
       "      <td>800</td>\n",
       "      <td>846</td>\n",
       "    </tr>\n",
       "    <tr>\n",
       "      <th>1</th>\n",
       "      <td>ok</td>\n",
       "      <td>17</td>\n",
       "      <td>rent</td>\n",
       "      <td>60</td>\n",
       "      <td>58</td>\n",
       "      <td>widow</td>\n",
       "      <td>no</td>\n",
       "      <td>fixed</td>\n",
       "      <td>48</td>\n",
       "      <td>131</td>\n",
       "      <td>0</td>\n",
       "      <td>0</td>\n",
       "      <td>1000</td>\n",
       "      <td>1658</td>\n",
       "    </tr>\n",
       "    <tr>\n",
       "      <th>2</th>\n",
       "      <td>default</td>\n",
       "      <td>10</td>\n",
       "      <td>owner</td>\n",
       "      <td>36</td>\n",
       "      <td>46</td>\n",
       "      <td>married</td>\n",
       "      <td>yes</td>\n",
       "      <td>freelance</td>\n",
       "      <td>90</td>\n",
       "      <td>200</td>\n",
       "      <td>3000</td>\n",
       "      <td>0</td>\n",
       "      <td>2000</td>\n",
       "      <td>2985</td>\n",
       "    </tr>\n",
       "    <tr>\n",
       "      <th>3</th>\n",
       "      <td>ok</td>\n",
       "      <td>0</td>\n",
       "      <td>rent</td>\n",
       "      <td>60</td>\n",
       "      <td>24</td>\n",
       "      <td>single</td>\n",
       "      <td>no</td>\n",
       "      <td>fixed</td>\n",
       "      <td>63</td>\n",
       "      <td>182</td>\n",
       "      <td>2500</td>\n",
       "      <td>0</td>\n",
       "      <td>900</td>\n",
       "      <td>1325</td>\n",
       "    </tr>\n",
       "    <tr>\n",
       "      <th>4</th>\n",
       "      <td>ok</td>\n",
       "      <td>0</td>\n",
       "      <td>rent</td>\n",
       "      <td>36</td>\n",
       "      <td>26</td>\n",
       "      <td>single</td>\n",
       "      <td>no</td>\n",
       "      <td>fixed</td>\n",
       "      <td>46</td>\n",
       "      <td>107</td>\n",
       "      <td>0</td>\n",
       "      <td>0</td>\n",
       "      <td>310</td>\n",
       "      <td>910</td>\n",
       "    </tr>\n",
       "  </tbody>\n",
       "</table>\n",
       "</div>"
      ],
      "text/plain": [
       "    status  seniority   home  time  age  marital records        job  expenses  \\\n",
       "0       ok          9   rent    60   30  married      no  freelance        73   \n",
       "1       ok         17   rent    60   58    widow      no      fixed        48   \n",
       "2  default         10  owner    36   46  married     yes  freelance        90   \n",
       "3       ok          0   rent    60   24   single      no      fixed        63   \n",
       "4       ok          0   rent    36   26   single      no      fixed        46   \n",
       "\n",
       "   income  assets  debt  amount  price  \n",
       "0     129       0     0     800    846  \n",
       "1     131       0     0    1000   1658  \n",
       "2     200    3000     0    2000   2985  \n",
       "3     182    2500     0     900   1325  \n",
       "4     107       0     0     310    910  "
      ]
     },
     "execution_count": 11,
     "metadata": {},
     "output_type": "execute_result"
    }
   ],
   "source": [
    "# printing the dataset again\n",
    "data.head()"
   ]
  },
  {
   "cell_type": "code",
   "execution_count": 12,
   "id": "c196467e",
   "metadata": {},
   "outputs": [
    {
     "data": {
      "text/html": [
       "<div>\n",
       "<style scoped>\n",
       "    .dataframe tbody tr th:only-of-type {\n",
       "        vertical-align: middle;\n",
       "    }\n",
       "\n",
       "    .dataframe tbody tr th {\n",
       "        vertical-align: top;\n",
       "    }\n",
       "\n",
       "    .dataframe thead th {\n",
       "        text-align: right;\n",
       "    }\n",
       "</style>\n",
       "<table border=\"1\" class=\"dataframe\">\n",
       "  <thead>\n",
       "    <tr style=\"text-align: right;\">\n",
       "      <th></th>\n",
       "      <th>seniority</th>\n",
       "      <th>time</th>\n",
       "      <th>age</th>\n",
       "      <th>expenses</th>\n",
       "      <th>income</th>\n",
       "      <th>assets</th>\n",
       "      <th>debt</th>\n",
       "      <th>amount</th>\n",
       "      <th>price</th>\n",
       "    </tr>\n",
       "  </thead>\n",
       "  <tbody>\n",
       "    <tr>\n",
       "      <th>count</th>\n",
       "      <td>4455.0</td>\n",
       "      <td>4455.0</td>\n",
       "      <td>4455.0</td>\n",
       "      <td>4455.0</td>\n",
       "      <td>4455.0</td>\n",
       "      <td>4455.0</td>\n",
       "      <td>4455.0</td>\n",
       "      <td>4455.0</td>\n",
       "      <td>4455.0</td>\n",
       "    </tr>\n",
       "    <tr>\n",
       "      <th>mean</th>\n",
       "      <td>8.0</td>\n",
       "      <td>46.0</td>\n",
       "      <td>37.0</td>\n",
       "      <td>56.0</td>\n",
       "      <td>763317.0</td>\n",
       "      <td>1060341.0</td>\n",
       "      <td>404382.0</td>\n",
       "      <td>1039.0</td>\n",
       "      <td>1463.0</td>\n",
       "    </tr>\n",
       "    <tr>\n",
       "      <th>std</th>\n",
       "      <td>8.0</td>\n",
       "      <td>15.0</td>\n",
       "      <td>11.0</td>\n",
       "      <td>20.0</td>\n",
       "      <td>8703625.0</td>\n",
       "      <td>10217569.0</td>\n",
       "      <td>6344253.0</td>\n",
       "      <td>475.0</td>\n",
       "      <td>628.0</td>\n",
       "    </tr>\n",
       "    <tr>\n",
       "      <th>min</th>\n",
       "      <td>0.0</td>\n",
       "      <td>6.0</td>\n",
       "      <td>18.0</td>\n",
       "      <td>35.0</td>\n",
       "      <td>0.0</td>\n",
       "      <td>0.0</td>\n",
       "      <td>0.0</td>\n",
       "      <td>100.0</td>\n",
       "      <td>105.0</td>\n",
       "    </tr>\n",
       "    <tr>\n",
       "      <th>25%</th>\n",
       "      <td>2.0</td>\n",
       "      <td>36.0</td>\n",
       "      <td>28.0</td>\n",
       "      <td>35.0</td>\n",
       "      <td>80.0</td>\n",
       "      <td>0.0</td>\n",
       "      <td>0.0</td>\n",
       "      <td>700.0</td>\n",
       "      <td>1118.0</td>\n",
       "    </tr>\n",
       "    <tr>\n",
       "      <th>50%</th>\n",
       "      <td>5.0</td>\n",
       "      <td>48.0</td>\n",
       "      <td>36.0</td>\n",
       "      <td>51.0</td>\n",
       "      <td>120.0</td>\n",
       "      <td>3500.0</td>\n",
       "      <td>0.0</td>\n",
       "      <td>1000.0</td>\n",
       "      <td>1400.0</td>\n",
       "    </tr>\n",
       "    <tr>\n",
       "      <th>75%</th>\n",
       "      <td>12.0</td>\n",
       "      <td>60.0</td>\n",
       "      <td>45.0</td>\n",
       "      <td>72.0</td>\n",
       "      <td>166.0</td>\n",
       "      <td>6000.0</td>\n",
       "      <td>0.0</td>\n",
       "      <td>1300.0</td>\n",
       "      <td>1692.0</td>\n",
       "    </tr>\n",
       "    <tr>\n",
       "      <th>max</th>\n",
       "      <td>48.0</td>\n",
       "      <td>72.0</td>\n",
       "      <td>68.0</td>\n",
       "      <td>180.0</td>\n",
       "      <td>99999999.0</td>\n",
       "      <td>99999999.0</td>\n",
       "      <td>99999999.0</td>\n",
       "      <td>5000.0</td>\n",
       "      <td>11140.0</td>\n",
       "    </tr>\n",
       "  </tbody>\n",
       "</table>\n",
       "</div>"
      ],
      "text/plain": [
       "       seniority    time     age  expenses      income      assets  \\\n",
       "count     4455.0  4455.0  4455.0    4455.0      4455.0      4455.0   \n",
       "mean         8.0    46.0    37.0      56.0    763317.0   1060341.0   \n",
       "std          8.0    15.0    11.0      20.0   8703625.0  10217569.0   \n",
       "min          0.0     6.0    18.0      35.0         0.0         0.0   \n",
       "25%          2.0    36.0    28.0      35.0        80.0         0.0   \n",
       "50%          5.0    48.0    36.0      51.0       120.0      3500.0   \n",
       "75%         12.0    60.0    45.0      72.0       166.0      6000.0   \n",
       "max         48.0    72.0    68.0     180.0  99999999.0  99999999.0   \n",
       "\n",
       "             debt  amount    price  \n",
       "count      4455.0  4455.0   4455.0  \n",
       "mean     404382.0  1039.0   1463.0  \n",
       "std     6344253.0   475.0    628.0  \n",
       "min           0.0   100.0    105.0  \n",
       "25%           0.0   700.0   1118.0  \n",
       "50%           0.0  1000.0   1400.0  \n",
       "75%           0.0  1300.0   1692.0  \n",
       "max    99999999.0  5000.0  11140.0  "
      ]
     },
     "execution_count": 12,
     "metadata": {},
     "output_type": "execute_result"
    }
   ],
   "source": [
    "# explore the summary of the numerical features.\n",
    "data.describe().round()"
   ]
  },
  {
   "cell_type": "markdown",
   "id": "5ef74ef6",
   "metadata": {},
   "source": [
    "It is noticeable that the features `income`, `assets` and `debt` has a very large value which isnabnormal. We will eplace them with NA"
   ]
  },
  {
   "cell_type": "code",
   "execution_count": 13,
   "id": "f7d62e1f",
   "metadata": {},
   "outputs": [
    {
     "data": {
      "text/plain": [
       "99999999"
      ]
     },
     "execution_count": 13,
     "metadata": {},
     "output_type": "execute_result"
    }
   ],
   "source": [
    "# print out the maximum value\n",
    "data.income.max()"
   ]
  },
  {
   "cell_type": "code",
   "execution_count": 14,
   "id": "f1be1864",
   "metadata": {},
   "outputs": [],
   "source": [
    "# replacing the maximum value with 0\n",
    "for col in ['income', 'assets', 'debt']:\n",
    "    data[col].replace(99999999, 0, inplace=True)"
   ]
  },
  {
   "cell_type": "code",
   "execution_count": 15,
   "id": "81cea145",
   "metadata": {},
   "outputs": [
    {
     "data": {
      "text/plain": [
       "959"
      ]
     },
     "execution_count": 15,
     "metadata": {},
     "output_type": "execute_result"
    }
   ],
   "source": [
    "data.income.max()"
   ]
  },
  {
   "cell_type": "code",
   "execution_count": 16,
   "id": "7ae72bce",
   "metadata": {},
   "outputs": [
    {
     "data": {
      "text/plain": [
       "ok         3200\n",
       "default    1254\n",
       "unk           1\n",
       "Name: status, dtype: int64"
      ]
     },
     "execution_count": 16,
     "metadata": {},
     "output_type": "execute_result"
    }
   ],
   "source": [
    "# now we are only interested in the customers that default or do not default.\n",
    "# Rvery records with unknown status will be removed from the data\n",
    "data.status.value_counts()"
   ]
  },
  {
   "cell_type": "code",
   "execution_count": 17,
   "id": "79504b98",
   "metadata": {},
   "outputs": [],
   "source": [
    "data = data[data['status'] != 'ukn'].reset_index(drop=True)"
   ]
  },
  {
   "cell_type": "markdown",
   "id": "c1691126",
   "metadata": {},
   "source": [
    "### Splitting the data into train and test data"
   ]
  },
  {
   "cell_type": "code",
   "execution_count": 18,
   "id": "e481a637",
   "metadata": {},
   "outputs": [],
   "source": [
    "from sklearn.model_selection import train_test_split"
   ]
  },
  {
   "cell_type": "code",
   "execution_count": 19,
   "id": "94965781",
   "metadata": {},
   "outputs": [],
   "source": [
    "full_train, test = train_test_split(data, test_size=0.2, random_state=11)\n",
    "train, val = train_test_split(full_train, test_size=0.25, random_state=11)"
   ]
  },
  {
   "cell_type": "code",
   "execution_count": 20,
   "id": "0f6b1bc8",
   "metadata": {},
   "outputs": [
    {
     "data": {
      "text/plain": [
       "(2673, 891, 891)"
      ]
     },
     "execution_count": 20,
     "metadata": {},
     "output_type": "execute_result"
    }
   ],
   "source": [
    "# printing the number of observation for the train, validation and test data\n",
    "(train.shape[0], val.shape[0], test.shape[0])"
   ]
  },
  {
   "cell_type": "code",
   "execution_count": 21,
   "id": "be737b83",
   "metadata": {},
   "outputs": [],
   "source": [
    "# resetting the index in descending order for each of the train, val and test data\n",
    "train.reset_index(drop=True, inplace=True)\n",
    "val.reset_index(drop=True, inplace=True)\n",
    "test.reset_index(drop=True, inplace=True)"
   ]
  },
  {
   "cell_type": "code",
   "execution_count": 22,
   "id": "eb0d717f",
   "metadata": {},
   "outputs": [],
   "source": [
    "# now convert the categorical value of status to integers\n",
    "y_train = (train.status == 'default').astype(int)\n",
    "y_val = (val.status == 'default').astype(int)\n",
    "y_test = (test.status == 'default').astype(int)"
   ]
  },
  {
   "cell_type": "code",
   "execution_count": 23,
   "id": "bd52ca9f",
   "metadata": {},
   "outputs": [],
   "source": [
    "# remove the status column for each of the data: train, validation and test\n",
    "del train['status']\n",
    "del val['status']\n",
    "del test['status']"
   ]
  },
  {
   "cell_type": "markdown",
   "id": "8f7b6171",
   "metadata": {},
   "source": [
    "### DECISION TREE"
   ]
  },
  {
   "cell_type": "code",
   "execution_count": 24,
   "id": "e1040bde",
   "metadata": {},
   "outputs": [],
   "source": [
    "from sklearn.tree import DecisionTreeClassifier, export_text\n",
    "from sklearn.feature_extraction import DictVectorizer"
   ]
  },
  {
   "cell_type": "markdown",
   "id": "bed4d7e6",
   "metadata": {},
   "source": [
    "**Transform the train data with dict vectorizer and fit it with the Dacision Tree model**"
   ]
  },
  {
   "cell_type": "code",
   "execution_count": 25,
   "id": "5989eea6",
   "metadata": {},
   "outputs": [],
   "source": [
    "dict_train = train.to_dict(orient='records')"
   ]
  },
  {
   "cell_type": "code",
   "execution_count": 26,
   "id": "d95e7f8f",
   "metadata": {},
   "outputs": [],
   "source": [
    "# dictvectorizer boject\n",
    "dv = DictVectorizer(sparse=False)"
   ]
  },
  {
   "cell_type": "code",
   "execution_count": 27,
   "id": "4498bcdf",
   "metadata": {},
   "outputs": [],
   "source": [
    "# transform the dict_train\n",
    "X_train = dv.fit_transform(dict_train)"
   ]
  },
  {
   "cell_type": "code",
   "execution_count": 28,
   "id": "119886bf",
   "metadata": {},
   "outputs": [
    {
     "data": {
      "text/plain": [
       "['age',\n",
       " 'amount',\n",
       " 'assets',\n",
       " 'debt',\n",
       " 'expenses',\n",
       " 'home=ignore',\n",
       " 'home=other',\n",
       " 'home=owner',\n",
       " 'home=parents',\n",
       " 'home=private',\n",
       " 'home=rent',\n",
       " 'home=unk',\n",
       " 'income',\n",
       " 'job=fixed',\n",
       " 'job=freelance',\n",
       " 'job=others',\n",
       " 'job=partime',\n",
       " 'marital=divorced',\n",
       " 'marital=married',\n",
       " 'marital=separated',\n",
       " 'marital=single',\n",
       " 'marital=unk',\n",
       " 'marital=widow',\n",
       " 'price',\n",
       " 'records=no',\n",
       " 'records=yes',\n",
       " 'seniority',\n",
       " 'time']"
      ]
     },
     "execution_count": 28,
     "metadata": {},
     "output_type": "execute_result"
    }
   ],
   "source": [
    "# print the name of features of trainsformed train\n",
    "dv.get_feature_names()"
   ]
  },
  {
   "cell_type": "code",
   "execution_count": 29,
   "id": "12fbb003",
   "metadata": {},
   "outputs": [],
   "source": [
    "# decision tree model object\n",
    "dt = DecisionTreeClassifier()"
   ]
  },
  {
   "cell_type": "code",
   "execution_count": 30,
   "id": "65a3bd4d",
   "metadata": {},
   "outputs": [
    {
     "data": {
      "text/plain": [
       "DecisionTreeClassifier()"
      ]
     },
     "execution_count": 30,
     "metadata": {},
     "output_type": "execute_result"
    }
   ],
   "source": [
    "# fit the X_train dataset\n",
    "dt.fit(X_train, y_train)"
   ]
  },
  {
   "cell_type": "markdown",
   "id": "5ab3a43a",
   "metadata": {},
   "source": [
    "**Transform the val data with the dictvectorizer and predict its label with the trained dt model.**"
   ]
  },
  {
   "cell_type": "code",
   "execution_count": 31,
   "id": "c12d9b17",
   "metadata": {},
   "outputs": [],
   "source": [
    "dict_val = val.to_dict(orient='records')\n",
    "X_val = dv.transform(dict_val)"
   ]
  },
  {
   "cell_type": "code",
   "execution_count": 32,
   "id": "78a01c1e",
   "metadata": {},
   "outputs": [],
   "source": [
    "# predict the transformed X_val\n",
    "y_pred = dt.predict_proba(X_val)[:, 1]"
   ]
  },
  {
   "cell_type": "markdown",
   "id": "ef346eee",
   "metadata": {},
   "source": [
    "**Validate the model with roc-auc curve score.**"
   ]
  },
  {
   "cell_type": "code",
   "execution_count": 33,
   "id": "a05dc471",
   "metadata": {},
   "outputs": [],
   "source": [
    "from sklearn.metrics import roc_auc_score"
   ]
  },
  {
   "cell_type": "code",
   "execution_count": 34,
   "id": "9a31806e",
   "metadata": {},
   "outputs": [
    {
     "data": {
      "text/plain": [
       "0.655459276381661"
      ]
     },
     "execution_count": 34,
     "metadata": {},
     "output_type": "execute_result"
    }
   ],
   "source": [
    "roc_auc_score(y_val, y_pred)"
   ]
  },
  {
   "cell_type": "code",
   "execution_count": 35,
   "id": "92c07618",
   "metadata": {},
   "outputs": [
    {
     "data": {
      "text/plain": [
       "1.0"
      ]
     },
     "execution_count": 35,
     "metadata": {},
     "output_type": "execute_result"
    }
   ],
   "source": [
    "# predicting the trianing dataset too\n",
    "y_pred = dt.predict_proba(X_train)[:, 1]\n",
    "roc_auc_score(y_train, y_pred)"
   ]
  },
  {
   "cell_type": "markdown",
   "id": "fc356fbb",
   "metadata": {},
   "source": [
    "It can be said that the model **underfits** because the difference between the validation and the train data roc_auc_score is large enough **(0.34 or 34%)** and that the  model performs way better with the training data than the validation data.\n",
    "\n",
    "The model memorizes the training data and so fails to generalize.\n",
    "\n",
    "A deep tree (**using large features**) can lead to overfitting because the tree can learn any possible combination."
   ]
  },
  {
   "cell_type": "code",
   "execution_count": 36,
   "id": "2ec1e982",
   "metadata": {},
   "outputs": [
    {
     "name": "stdout",
     "output_type": "stream",
     "text": [
      "Train score: 0.7660925386129352\n",
      "Validation score: 0.763427236430611\n"
     ]
    }
   ],
   "source": [
    "# Now retrian the model with a maximum depth of 3\n",
    "dt = DecisionTreeClassifier(max_depth=3)\n",
    "\n",
    "dt.fit(X_train, y_train)\n",
    "\n",
    "print(f\"Train score: {roc_auc_score(y_train, dt.predict_proba(X_train)[:, 1])}\")\n",
    "\n",
    "print(f\"Validation score: {roc_auc_score(y_val, dt.predict_proba(X_val)[:, 1])}\")"
   ]
  },
  {
   "cell_type": "markdown",
   "id": "c3ebc30e",
   "metadata": {},
   "source": [
    "Reducing the depth of the tree removed the overfitting effect."
   ]
  },
  {
   "cell_type": "code",
   "execution_count": 37,
   "id": "6b7da82c",
   "metadata": {},
   "outputs": [
    {
     "name": "stdout",
     "output_type": "stream",
     "text": [
      "|--- records=yes <= 0.50\n",
      "|   |--- job=partime <= 0.50\n",
      "|   |   |--- income <= 73.50\n",
      "|   |   |   |--- class: 0\n",
      "|   |   |--- income >  73.50\n",
      "|   |   |   |--- class: 0\n",
      "|   |--- job=partime >  0.50\n",
      "|   |   |--- time <= 27.00\n",
      "|   |   |   |--- class: 0\n",
      "|   |   |--- time >  27.00\n",
      "|   |   |   |--- class: 1\n",
      "|--- records=yes >  0.50\n",
      "|   |--- seniority <= 6.50\n",
      "|   |   |--- income <= 50.50\n",
      "|   |   |   |--- class: 1\n",
      "|   |   |--- income >  50.50\n",
      "|   |   |   |--- class: 1\n",
      "|   |--- seniority >  6.50\n",
      "|   |   |--- income <= 99.50\n",
      "|   |   |   |--- class: 1\n",
      "|   |   |--- income >  99.50\n",
      "|   |   |   |--- class: 0\n",
      "\n"
     ]
    },
    {
     "name": "stderr",
     "output_type": "stream",
     "text": [
      "C:\\Users\\USER\\anaconda3\\lib\\site-packages\\sklearn\\utils\\validation.py:70: FutureWarning: Pass feature_names=['age', 'amount', 'assets', 'debt', 'expenses', 'home=ignore', 'home=other', 'home=owner', 'home=parents', 'home=private', 'home=rent', 'home=unk', 'income', 'job=fixed', 'job=freelance', 'job=others', 'job=partime', 'marital=divorced', 'marital=married', 'marital=separated', 'marital=single', 'marital=unk', 'marital=widow', 'price', 'records=no', 'records=yes', 'seniority', 'time'] as keyword args. From version 1.0 (renaming of 0.25) passing these as positional arguments will result in an error\n",
      "  warnings.warn(f\"Pass {args_msg} as keyword args. From version \"\n"
     ]
    }
   ],
   "source": [
    "# visualizing the tree\n",
    "print(export_text(dt, dv.get_feature_names()))"
   ]
  },
  {
   "cell_type": "markdown",
   "id": "b6ed2e23",
   "metadata": {},
   "source": [
    "### DECISION TREE HYPERPARAMETER TUNNING\n",
    "\n",
    "* Finding the best split for one column.\n",
    "* Finding the best split for the entire columns.\n",
    "* Stopping criteria:\n",
    "    * when all of the split are already pure (when there is only a unique class in a group).\n",
    "    * when group is too small to split.\n",
    "    * when tree already reached depth limit (the splitting of the dataset).\n",
    "* Decision tree learning algorithm.\n",
    "    * Find the best split\n",
    "    * Stop if maximum depth is reached\n",
    "    * If left group is sufficiently large and not pure, repeat the process again for left group.\n",
    "    * If right group is sufficiently large and not pure, repeat the process again for right group.\n",
    "* When group is too small to split."
   ]
  },
  {
   "cell_type": "markdown",
   "id": "495a397d",
   "metadata": {},
   "source": [
    "The following parameters will be tunned:\n",
    "* max_depth: max number of column to check.\n",
    "* min_samples_leaf: the minimum samples in a node. decides if a group is sufficiently large "
   ]
  },
  {
   "cell_type": "code",
   "execution_count": 47,
   "id": "b5bf0d48",
   "metadata": {},
   "outputs": [
    {
     "name": "stdout",
     "output_type": "stream",
     "text": [
      "Max Depth 2 -> 0.688\n",
      "Max Depth 3 -> 0.763\n",
      "Max Depth 4 -> 0.779\n",
      "Max Depth 5 -> 0.784\n",
      "Max Depth 6 -> 0.776\n",
      "Max Depth 10 -> 0.708\n",
      "Max Depth 15 -> 0.681\n",
      "Max Depth 20 -> 0.676\n"
     ]
    }
   ],
   "source": [
    "for d in [2,3,4,5,6,10,15,20]:\n",
    "    dt = DecisionTreeClassifier(max_depth=d)\n",
    "    dt.fit(X_train, y_train)\n",
    "    \n",
    "    y_pred = dt.predict_proba(X_val)[:, 1]\n",
    "    auc = roc_auc_score(y_val, y_pred)\n",
    "    \n",
    "    print(f'Max Depth {d} -> {round(auc, 3)}')"
   ]
  },
  {
   "cell_type": "code",
   "execution_count": 57,
   "id": "8365d375",
   "metadata": {},
   "outputs": [
    {
     "data": {
      "text/plain": [
       "(6, 20, 0.8)"
      ]
     },
     "execution_count": 57,
     "metadata": {},
     "output_type": "execute_result"
    }
   ],
   "source": [
    "# now picking the best 3 maximum value above and train it with the min_samples_leaf parameter\n",
    "scores = []\n",
    "for d in [4,5,6]:\n",
    "    for m in [2, 4, 5, 10, 15, 20, 100, 200]:\n",
    "        dt = DecisionTreeClassifier(max_depth=d, min_samples_leaf=m)\n",
    "        dt.fit(X_train, y_train)\n",
    "\n",
    "        y_pred = dt.predict_proba(X_val)[:, 1]\n",
    "        auc = roc_auc_score(y_val, y_pred)\n",
    "\n",
    "        scores.append((d, m, round(auc, 3)))\n",
    "        \n",
    "sorted(scores, key=lambda x: x[2], reverse=True)[0]"
   ]
  },
  {
   "cell_type": "code",
   "execution_count": 68,
   "id": "e71da668",
   "metadata": {},
   "outputs": [
    {
     "data": {
      "text/html": [
       "<div>\n",
       "<style scoped>\n",
       "    .dataframe tbody tr th:only-of-type {\n",
       "        vertical-align: middle;\n",
       "    }\n",
       "\n",
       "    .dataframe tbody tr th {\n",
       "        vertical-align: top;\n",
       "    }\n",
       "\n",
       "    .dataframe thead th {\n",
       "        text-align: right;\n",
       "    }\n",
       "</style>\n",
       "<table border=\"1\" class=\"dataframe\">\n",
       "  <thead>\n",
       "    <tr style=\"text-align: right;\">\n",
       "      <th></th>\n",
       "      <th>max_depth</th>\n",
       "      <th>min_samples_leaf</th>\n",
       "      <th>auc</th>\n",
       "    </tr>\n",
       "  </thead>\n",
       "  <tbody>\n",
       "    <tr>\n",
       "      <th>21</th>\n",
       "      <td>6</td>\n",
       "      <td>20</td>\n",
       "      <td>0.800</td>\n",
       "    </tr>\n",
       "    <tr>\n",
       "      <th>20</th>\n",
       "      <td>6</td>\n",
       "      <td>15</td>\n",
       "      <td>0.795</td>\n",
       "    </tr>\n",
       "    <tr>\n",
       "      <th>22</th>\n",
       "      <td>6</td>\n",
       "      <td>100</td>\n",
       "      <td>0.793</td>\n",
       "    </tr>\n",
       "    <tr>\n",
       "      <th>19</th>\n",
       "      <td>6</td>\n",
       "      <td>10</td>\n",
       "      <td>0.792</td>\n",
       "    </tr>\n",
       "    <tr>\n",
       "      <th>23</th>\n",
       "      <td>6</td>\n",
       "      <td>200</td>\n",
       "      <td>0.789</td>\n",
       "    </tr>\n",
       "  </tbody>\n",
       "</table>\n",
       "</div>"
      ],
      "text/plain": [
       "    max_depth  min_samples_leaf    auc\n",
       "21          6                20  0.800\n",
       "20          6                15  0.795\n",
       "22          6               100  0.793\n",
       "19          6                10  0.792\n",
       "23          6               200  0.789"
      ]
     },
     "execution_count": 68,
     "metadata": {},
     "output_type": "execute_result"
    }
   ],
   "source": [
    "# creating a pandas df for the result and displaying the table for the top 5\n",
    "scores_df = pd.DataFrame(scores, columns=['max_depth', 'min_samples_leaf', 'auc'])\n",
    "scores_df.sort_values('auc', ascending=False).head()"
   ]
  },
  {
   "cell_type": "code",
   "execution_count": 70,
   "id": "290c0869",
   "metadata": {},
   "outputs": [
    {
     "data": {
      "text/html": [
       "<div>\n",
       "<style scoped>\n",
       "    .dataframe tbody tr th:only-of-type {\n",
       "        vertical-align: middle;\n",
       "    }\n",
       "\n",
       "    .dataframe tbody tr th {\n",
       "        vertical-align: top;\n",
       "    }\n",
       "\n",
       "    .dataframe thead th {\n",
       "        text-align: right;\n",
       "    }\n",
       "</style>\n",
       "<table border=\"1\" class=\"dataframe\">\n",
       "  <thead>\n",
       "    <tr style=\"text-align: right;\">\n",
       "      <th>max_depth</th>\n",
       "      <th>4</th>\n",
       "      <th>5</th>\n",
       "      <th>6</th>\n",
       "    </tr>\n",
       "    <tr>\n",
       "      <th>min_samples_leaf</th>\n",
       "      <th></th>\n",
       "      <th></th>\n",
       "      <th></th>\n",
       "    </tr>\n",
       "  </thead>\n",
       "  <tbody>\n",
       "    <tr>\n",
       "      <th>2</th>\n",
       "      <td>0.779</td>\n",
       "      <td>0.783</td>\n",
       "      <td>0.776</td>\n",
       "    </tr>\n",
       "    <tr>\n",
       "      <th>4</th>\n",
       "      <td>0.779</td>\n",
       "      <td>0.786</td>\n",
       "      <td>0.782</td>\n",
       "    </tr>\n",
       "    <tr>\n",
       "      <th>5</th>\n",
       "      <td>0.779</td>\n",
       "      <td>0.787</td>\n",
       "      <td>0.785</td>\n",
       "    </tr>\n",
       "    <tr>\n",
       "      <th>10</th>\n",
       "      <td>0.774</td>\n",
       "      <td>0.784</td>\n",
       "      <td>0.792</td>\n",
       "    </tr>\n",
       "    <tr>\n",
       "      <th>15</th>\n",
       "      <td>0.771</td>\n",
       "      <td>0.780</td>\n",
       "      <td>0.795</td>\n",
       "    </tr>\n",
       "    <tr>\n",
       "      <th>20</th>\n",
       "      <td>0.784</td>\n",
       "      <td>0.785</td>\n",
       "      <td>0.800</td>\n",
       "    </tr>\n",
       "    <tr>\n",
       "      <th>100</th>\n",
       "      <td>0.767</td>\n",
       "      <td>0.786</td>\n",
       "      <td>0.793</td>\n",
       "    </tr>\n",
       "    <tr>\n",
       "      <th>200</th>\n",
       "      <td>0.765</td>\n",
       "      <td>0.778</td>\n",
       "      <td>0.789</td>\n",
       "    </tr>\n",
       "  </tbody>\n",
       "</table>\n",
       "</div>"
      ],
      "text/plain": [
       "max_depth             4      5      6\n",
       "min_samples_leaf                     \n",
       "2                 0.779  0.783  0.776\n",
       "4                 0.779  0.786  0.782\n",
       "5                 0.779  0.787  0.785\n",
       "10                0.774  0.784  0.792\n",
       "15                0.771  0.780  0.795\n",
       "20                0.784  0.785  0.800\n",
       "100               0.767  0.786  0.793\n",
       "200               0.765  0.778  0.789"
      ]
     },
     "execution_count": 70,
     "metadata": {},
     "output_type": "execute_result"
    }
   ],
   "source": [
    "# creating a pivot  table for the result\n",
    "pivoted_scores_df = scores_df.pivot(columns='max_depth', index='min_samples_leaf', values='auc')\n",
    "pivoted_scores_df"
   ]
  },
  {
   "cell_type": "code",
   "execution_count": 74,
   "id": "047aa961",
   "metadata": {},
   "outputs": [
    {
     "data": {
      "text/plain": [
       "<AxesSubplot:xlabel='max_depth', ylabel='min_samples_leaf'>"
      ]
     },
     "execution_count": 74,
     "metadata": {},
     "output_type": "execute_result"
    },
    {
     "data": {
      "image/png": "[encoded data removed]",
      "text/plain": [
       "<Figure size 432x288 with 2 Axes>"
      ]
     },
     "metadata": {
      "needs_background": "light"
     },
     "output_type": "display_data"
    }
   ],
   "source": [
    "# Displaying the result with heatmap\n",
    "sns.heatmap(pivoted_scores_df, annot=True, fmt='.3f')"
   ]
  },
  {
   "cell_type": "markdown",
   "id": "b060a583",
   "metadata": {},
   "source": [
    "Setting the `max_depth` and `min_samples_leaf` to 6 and 20 respectively returned the best evaluation score.\n",
    "\n",
    "Now, using the parameter above for the final decision tree model:"
   ]
  },
  {
   "cell_type": "code",
   "execution_count": 75,
   "id": "60aa6726",
   "metadata": {},
   "outputs": [
    {
     "data": {
      "text/plain": [
       "DecisionTreeClassifier(max_depth=6, min_samples_leaf=20)"
      ]
     },
     "execution_count": 75,
     "metadata": {},
     "output_type": "execute_result"
    }
   ],
   "source": [
    "df = DecisionTreeClassifier(max_depth=6, min_samples_leaf=20)\n",
    "df.fit(X_train, y_train)"
   ]
  },
  {
   "cell_type": "markdown",
   "id": "f1b7958d",
   "metadata": {},
   "source": [
    "### ENSEMBLE AND RANDOM FOREST MODEL\n",
    "* Ensemble models\n",
    "* Random Forest: ensemble decision tree\n",
    "* Tunning Random Forest: `n_estimtors`, `max_depth`, `min_samples_leaf`"
   ]
  },
  {
   "cell_type": "code",
   "execution_count": 76,
   "id": "8ca7f1e0",
   "metadata": {},
   "outputs": [],
   "source": [
    "from sklearn.ensemble import RandomForestClassifier"
   ]
  },
  {
   "cell_type": "code",
   "execution_count": 96,
   "id": "10f1f880",
   "metadata": {},
   "outputs": [
    {
     "data": {
      "text/plain": [
       "RandomForestClassifier(n_estimators=10, random_state=1)"
      ]
     },
     "execution_count": 96,
     "metadata": {},
     "output_type": "execute_result"
    }
   ],
   "source": [
    "# using an ensemble of 10 decision trees\n",
    "rf = RandomForestClassifier(n_estimators=10, random_state=1)\n",
    "rf.fit(X_train, y_train)"
   ]
  },
  {
   "cell_type": "code",
   "execution_count": 99,
   "id": "4e87589d",
   "metadata": {},
   "outputs": [
    {
     "data": {
      "text/plain": [
       "0.8135545556805399"
      ]
     },
     "execution_count": 99,
     "metadata": {},
     "output_type": "execute_result"
    }
   ],
   "source": [
    "y_pred = rf.predict_proba(X_val)[:, 1]\n",
    "roc_auc_score(y_val, y_pred)"
   ]
  },
  {
   "cell_type": "code",
   "execution_count": 106,
   "id": "1a19042d",
   "metadata": {},
   "outputs": [],
   "source": [
    "# using different number of estimators\n",
    "\n",
    "scores = []\n",
    "for n in range(10, 201, 10):\n",
    "    rf = RandomForestClassifier(n_estimators=n, random_state=1)\n",
    "    rf.fit(X_train, y_train)\n",
    "    \n",
    "    y_pred = rf.predict_proba(X_val)[:, 1]\n",
    "    auc = roc_auc_score(y_val, y_pred)\n",
    "    \n",
    "    scores.append((n, round(auc, 3)))\n",
    "    \n",
    "df_scores = pd.DataFrame(scores, columns=['n_estimators', 'auc'])"
   ]
  },
  {
   "cell_type": "code",
   "execution_count": 107,
   "id": "05491a11",
   "metadata": {},
   "outputs": [
    {
     "data": {
      "text/html": [
       "<div>\n",
       "<style scoped>\n",
       "    .dataframe tbody tr th:only-of-type {\n",
       "        vertical-align: middle;\n",
       "    }\n",
       "\n",
       "    .dataframe tbody tr th {\n",
       "        vertical-align: top;\n",
       "    }\n",
       "\n",
       "    .dataframe thead th {\n",
       "        text-align: right;\n",
       "    }\n",
       "</style>\n",
       "<table border=\"1\" class=\"dataframe\">\n",
       "  <thead>\n",
       "    <tr style=\"text-align: right;\">\n",
       "      <th></th>\n",
       "      <th>n_estimators</th>\n",
       "      <th>auc</th>\n",
       "    </tr>\n",
       "  </thead>\n",
       "  <tbody>\n",
       "    <tr>\n",
       "      <th>0</th>\n",
       "      <td>10</td>\n",
       "      <td>0.814</td>\n",
       "    </tr>\n",
       "    <tr>\n",
       "      <th>1</th>\n",
       "      <td>20</td>\n",
       "      <td>0.835</td>\n",
       "    </tr>\n",
       "    <tr>\n",
       "      <th>2</th>\n",
       "      <td>30</td>\n",
       "      <td>0.833</td>\n",
       "    </tr>\n",
       "    <tr>\n",
       "      <th>3</th>\n",
       "      <td>40</td>\n",
       "      <td>0.830</td>\n",
       "    </tr>\n",
       "    <tr>\n",
       "      <th>4</th>\n",
       "      <td>50</td>\n",
       "      <td>0.832</td>\n",
       "    </tr>\n",
       "  </tbody>\n",
       "</table>\n",
       "</div>"
      ],
      "text/plain": [
       "   n_estimators    auc\n",
       "0            10  0.814\n",
       "1            20  0.835\n",
       "2            30  0.833\n",
       "3            40  0.830\n",
       "4            50  0.832"
      ]
     },
     "execution_count": 107,
     "metadata": {},
     "output_type": "execute_result"
    }
   ],
   "source": [
    "df_scores.head()"
   ]
  },
  {
   "cell_type": "code",
   "execution_count": 109,
   "id": "206ba10d",
   "metadata": {},
   "outputs": [
    {
     "data": {
      "text/plain": [
       "Text(0, 0.5, 'AUC Sore')"
      ]
     },
     "execution_count": 109,
     "metadata": {},
     "output_type": "execute_result"
    },
    {
     "data": {
      "image/png": "[encoded data removed]",
      "text/plain": [
       "<Figure size 432x288 with 1 Axes>"
      ]
     },
     "metadata": {
      "needs_background": "light"
     },
     "output_type": "display_data"
    }
   ],
   "source": [
    "# plotting the n_estimator and auc\n",
    "plt.plot(df_scores.n_estimators, df_scores.auc)\n",
    "plt.xlabel('No. Estimators')\n",
    "plt.ylabel('AUC Sore')"
   ]
  },
  {
   "cell_type": "markdown",
   "id": "28faa71d",
   "metadata": {},
   "source": [
    "Because Random Forest is an ensemble of Decision Trees, it has the same parameer as in Decision Trees that can be tunned."
   ]
  },
  {
   "cell_type": "code",
   "execution_count": 135,
   "id": "5bcf1f1e",
   "metadata": {},
   "outputs": [],
   "source": [
    "n = 200"
   ]
  },
  {
   "cell_type": "code",
   "execution_count": 119,
   "id": "126963f6",
   "metadata": {},
   "outputs": [],
   "source": [
    "scores = []\n",
    "for d in [5,10,15]:\n",
    "    for n in range(10, 201, 10):\n",
    "        rf = RandomForestClassifier(n_estimators=n, max_depth=d, random_state=1)\n",
    "        rf.fit(X_train, y_train)\n",
    "\n",
    "        y_pred = rf.predict_proba(X_val)[:, 1]\n",
    "        auc = roc_auc_score(y_val, y_pred)\n",
    "\n",
    "        scores.append((d, n, round(auc, 3)))\n",
    "    \n",
    "df_scores = pd.DataFrame(scores, columns=['max_depth', 'n_estimators', 'auc'])"
   ]
  },
  {
   "cell_type": "code",
   "execution_count": 120,
   "id": "330f95ac",
   "metadata": {},
   "outputs": [
    {
     "data": {
      "text/html": [
       "<div>\n",
       "<style scoped>\n",
       "    .dataframe tbody tr th:only-of-type {\n",
       "        vertical-align: middle;\n",
       "    }\n",
       "\n",
       "    .dataframe tbody tr th {\n",
       "        vertical-align: top;\n",
       "    }\n",
       "\n",
       "    .dataframe thead th {\n",
       "        text-align: right;\n",
       "    }\n",
       "</style>\n",
       "<table border=\"1\" class=\"dataframe\">\n",
       "  <thead>\n",
       "    <tr style=\"text-align: right;\">\n",
       "      <th></th>\n",
       "      <th>max_depth</th>\n",
       "      <th>n_estimators</th>\n",
       "      <th>auc</th>\n",
       "    </tr>\n",
       "  </thead>\n",
       "  <tbody>\n",
       "    <tr>\n",
       "      <th>0</th>\n",
       "      <td>5</td>\n",
       "      <td>10</td>\n",
       "      <td>0.817</td>\n",
       "    </tr>\n",
       "    <tr>\n",
       "      <th>1</th>\n",
       "      <td>5</td>\n",
       "      <td>20</td>\n",
       "      <td>0.822</td>\n",
       "    </tr>\n",
       "    <tr>\n",
       "      <th>2</th>\n",
       "      <td>5</td>\n",
       "      <td>30</td>\n",
       "      <td>0.822</td>\n",
       "    </tr>\n",
       "    <tr>\n",
       "      <th>3</th>\n",
       "      <td>5</td>\n",
       "      <td>40</td>\n",
       "      <td>0.825</td>\n",
       "    </tr>\n",
       "    <tr>\n",
       "      <th>4</th>\n",
       "      <td>5</td>\n",
       "      <td>50</td>\n",
       "      <td>0.829</td>\n",
       "    </tr>\n",
       "  </tbody>\n",
       "</table>\n",
       "</div>"
      ],
      "text/plain": [
       "   max_depth  n_estimators    auc\n",
       "0          5            10  0.817\n",
       "1          5            20  0.822\n",
       "2          5            30  0.822\n",
       "3          5            40  0.825\n",
       "4          5            50  0.829"
      ]
     },
     "execution_count": 120,
     "metadata": {},
     "output_type": "execute_result"
    }
   ],
   "source": [
    "df_scores.head()"
   ]
  },
  {
   "cell_type": "code",
   "execution_count": 121,
   "id": "1890090b",
   "metadata": {},
   "outputs": [
    {
     "data": {
      "image/png": "[encoded data removed]",
      "text/plain": [
       "<Figure size 432x288 with 1 Axes>"
      ]
     },
     "metadata": {
      "needs_background": "light"
     },
     "output_type": "display_data"
    }
   ],
   "source": [
    "for d in [5,10,15]:\n",
    "    df_subset = df_scores[df_scores.max_depth == d]\n",
    "    plt.plot(df_subset.n_estimators, df_subset.auc, label=f'max_depth: {d}')\n",
    "    plt.legend()"
   ]
  },
  {
   "cell_type": "code",
   "execution_count": 122,
   "id": "6954d672",
   "metadata": {},
   "outputs": [],
   "source": [
    "# saving the maximum depth with the highest auc score\n",
    "max_depth = 10"
   ]
  },
  {
   "cell_type": "code",
   "execution_count": 125,
   "id": "fa41c894",
   "metadata": {},
   "outputs": [],
   "source": [
    "# now tunning the min_samples_leaf\n",
    "scores = []\n",
    "for m in [1, 3, 5, 10, 50]:\n",
    "    for n in range(10, 201, 10):\n",
    "        rf = RandomForestClassifier(n_estimators=n, max_depth=max_depth, min_samples_leaf=m, random_state=1)\n",
    "        rf.fit(X_train, y_train)\n",
    "\n",
    "        y_pred = rf.predict_proba(X_val)[:, 1]\n",
    "        auc = roc_auc_score(y_val, y_pred)\n",
    "\n",
    "        scores.append((m, n, round(auc, 3)))\n",
    "    \n",
    "df_scores = pd.DataFrame(scores, columns=['min_samples_leaf', 'n_estimators', 'auc'])"
   ]
  },
  {
   "cell_type": "code",
   "execution_count": 126,
   "id": "94f42cf6",
   "metadata": {},
   "outputs": [
    {
     "data": {
      "image/png": "[encoded data removed]",
      "text/plain": [
       "<Figure size 432x288 with 1 Axes>"
      ]
     },
     "metadata": {
      "needs_background": "light"
     },
     "output_type": "display_data"
    }
   ],
   "source": [
    "for m in [1, 3, 5, 10, 50]:\n",
    "    df_subset = df_scores[df_scores.min_samples_leaf == m]\n",
    "    plt.plot(df_subset.n_estimators, df_subset.auc, label=f'min_samples_leaf: {m}')\n",
    "    plt.legend()"
   ]
  },
  {
   "cell_type": "code",
   "execution_count": 127,
   "id": "4b6ba1be",
   "metadata": {},
   "outputs": [],
   "source": [
    "# using min_samples leaf of 1\n",
    "min_samples_leaf = 1"
   ]
  },
  {
   "cell_type": "markdown",
   "id": "2ee4f9a9",
   "metadata": {},
   "source": [
    "Now using the Random Forest model with the selected prameters:"
   ]
  },
  {
   "cell_type": "code",
   "execution_count": 136,
   "id": "193ebae7",
   "metadata": {},
   "outputs": [],
   "source": [
    "rf = RandomForestClassifier(n_estimators=n, \n",
    "                            max_depth=max_depth, \n",
    "                            min_samples_leaf=min_samples_leaf, \n",
    "                            random_state=1)"
   ]
  },
  {
   "cell_type": "code",
   "execution_count": 137,
   "id": "3696dea1",
   "metadata": {},
   "outputs": [
    {
     "data": {
      "text/plain": [
       "RandomForestClassifier(max_depth=10, n_estimators=200, random_state=1)"
      ]
     },
     "execution_count": 137,
     "metadata": {},
     "output_type": "execute_result"
    }
   ],
   "source": [
    "rf.fit(X_train, y_train)"
   ]
  },
  {
   "cell_type": "code",
   "execution_count": 138,
   "id": "a6b413b9",
   "metadata": {},
   "outputs": [
    {
     "data": {
      "text/plain": [
       "0.8403750355381403"
      ]
     },
     "execution_count": 138,
     "metadata": {},
     "output_type": "execute_result"
    }
   ],
   "source": [
    "y_pred = rf.predict_proba(X_val)[:, 1]\n",
    "auc = roc_auc_score(y_val, y_pred)\n",
    "auc"
   ]
  },
  {
   "cell_type": "markdown",
   "id": "318c458f",
   "metadata": {},
   "source": [
    "Other useful parameters: `max_features`, `botstrap`"
   ]
  },
  {
   "cell_type": "markdown",
   "id": "613eea20",
   "metadata": {},
   "source": [
    "### GRADIENT BOOSTING\n",
    "\n",
    "A different way of combining combining multiple Decision Trees into one ensemble."
   ]
  },
  {
   "cell_type": "code",
   "execution_count": 141,
   "id": "84a4df77",
   "metadata": {},
   "outputs": [
    {
     "name": "stdout",
     "output_type": "stream",
     "text": [
      "Collecting xgboost\n",
      "  Downloading xgboost-1.7.3-py3-none-win_amd64.whl (89.1 MB)\n",
      "Requirement already satisfied: scipy in c:\\users\\user\\anaconda3\\lib\\site-packages (from xgboost) (1.6.2)\n",
      "Requirement already satisfied: numpy in c:\\users\\user\\anaconda3\\lib\\site-packages (from xgboost) (1.20.1)\n",
      "Installing collected packages: xgboost\n",
      "Successfully installed xgboost-1.7.3\n"
     ]
    }
   ],
   "source": [
    "!pip install xgboost"
   ]
  },
  {
   "cell_type": "code",
   "execution_count": 142,
   "id": "c2d69561",
   "metadata": {},
   "outputs": [],
   "source": [
    "import xgboost as xgb"
   ]
  },
  {
   "cell_type": "code",
   "execution_count": 151,
   "id": "af39f44a",
   "metadata": {},
   "outputs": [],
   "source": [
    "features = dv.get_feature_names()\n",
    "dtrain = xgb.DMatrix(X_train, y_train, feature_names=features)\n",
    "dval = xgb.DMatrix(X_val, y_val, feature_names=features)"
   ]
  },
  {
   "cell_type": "code",
   "execution_count": 157,
   "id": "56516126",
   "metadata": {},
   "outputs": [
    {
     "name": "stdout",
     "output_type": "stream",
     "text": [
      "[12:06:33] WARNING: C:/buildkite-agent/builds/buildkite-windows-cpu-autoscaling-group-i-08de971ced8a8cdc6-1/xgboost/xgboost-ci-windows/src/learner.cc:767: \n",
      "Parameters: { \"ojective\" } are not used.\n",
      "\n"
     ]
    }
   ],
   "source": [
    "xgb_params = {\n",
    "    'eta': 0.3, # learning rate\n",
    "    'max_depth': 6,\n",
    "    'min_child_weight': 1, # same as min_samples_leaf\n",
    "    'ojective': 'binary:logistic',\n",
    "    'nthread': 2, # no. of cores\n",
    "    'seed': 1,\n",
    "    'verbosity':1\n",
    "}\n",
    "\n",
    "model = xgb.train(xgb_params, dtrain, num_boost_round=200) # num_boost_round = number of trees"
   ]
  },
  {
   "cell_type": "code",
   "execution_count": 158,
   "id": "db112469",
   "metadata": {},
   "outputs": [],
   "source": [
    "y_pred = model.predict(dval)"
   ]
  },
  {
   "cell_type": "code",
   "execution_count": 159,
   "id": "8fd59528",
   "metadata": {},
   "outputs": [
    {
     "data": {
      "text/plain": [
       "0.8125934807599601"
      ]
     },
     "execution_count": 159,
     "metadata": {},
     "output_type": "execute_result"
    }
   ],
   "source": [
    "roc_auc_score(y_val, y_pred)"
   ]
  },
  {
   "cell_type": "markdown",
   "id": "cad7f084",
   "metadata": {},
   "source": [
    "It is possible to monitor the trsining performance of the xgboost model. I.e, after each model is trained, we can evaluate it on validation data."
   ]
  },
  {
   "cell_type": "code",
   "execution_count": 160,
   "id": "22ad031f",
   "metadata": {},
   "outputs": [],
   "source": [
    "watchlist = [(dtrain, 'train'), (dval, 'val')]"
   ]
  },
  {
   "cell_type": "code",
   "execution_count": 172,
   "id": "e88eff9b",
   "metadata": {},
   "outputs": [
    {
     "name": "stdout",
     "output_type": "stream",
     "text": [
      "[12:47:22] WARNING: C:/buildkite-agent/builds/buildkite-windows-cpu-autoscaling-group-i-08de971ced8a8cdc6-1/xgboost/xgboost-ci-windows/src/learner.cc:767: \n",
      "Parameters: { \"ojective\" } are not used.\n",
      "\n",
      "[0]\ttrain-auc:0.85852\tval-auc:0.78566\n",
      "[5]\ttrain-auc:0.93494\tval-auc:0.81456\n",
      "[10]\ttrain-auc:0.95947\tval-auc:0.82194\n",
      "[15]\ttrain-auc:0.97302\tval-auc:0.82395\n",
      "[20]\ttrain-auc:0.98007\tval-auc:0.82304\n",
      "[25]\ttrain-auc:0.98498\tval-auc:0.82344\n",
      "[30]\ttrain-auc:0.98860\tval-auc:0.82015\n",
      "[35]\ttrain-auc:0.99218\tval-auc:0.82395\n",
      "[40]\ttrain-auc:0.99386\tval-auc:0.82191\n",
      "[45]\ttrain-auc:0.99593\tval-auc:0.82069\n",
      "[50]\ttrain-auc:0.99770\tval-auc:0.82243\n",
      "[55]\ttrain-auc:0.99840\tval-auc:0.82313\n",
      "[60]\ttrain-auc:0.99903\tval-auc:0.82036\n",
      "[65]\ttrain-auc:0.99936\tval-auc:0.81966\n",
      "[70]\ttrain-auc:0.99966\tval-auc:0.81876\n",
      "[75]\ttrain-auc:0.99979\tval-auc:0.81774\n",
      "[80]\ttrain-auc:0.99989\tval-auc:0.81867\n",
      "[85]\ttrain-auc:0.99994\tval-auc:0.81658\n",
      "[90]\ttrain-auc:0.99997\tval-auc:0.81466\n",
      "[95]\ttrain-auc:0.99999\tval-auc:0.81522\n",
      "[100]\ttrain-auc:0.99999\tval-auc:0.81491\n",
      "[105]\ttrain-auc:1.00000\tval-auc:0.81374\n",
      "[110]\ttrain-auc:1.00000\tval-auc:0.81361\n",
      "[115]\ttrain-auc:1.00000\tval-auc:0.81405\n",
      "[120]\ttrain-auc:1.00000\tval-auc:0.81271\n",
      "[125]\ttrain-auc:1.00000\tval-auc:0.81154\n",
      "[130]\ttrain-auc:1.00000\tval-auc:0.81202\n",
      "[135]\ttrain-auc:1.00000\tval-auc:0.81204\n",
      "[140]\ttrain-auc:1.00000\tval-auc:0.81041\n",
      "[145]\ttrain-auc:1.00000\tval-auc:0.81073\n",
      "[150]\ttrain-auc:1.00000\tval-auc:0.81173\n",
      "[155]\ttrain-auc:1.00000\tval-auc:0.81122\n",
      "[160]\ttrain-auc:1.00000\tval-auc:0.81194\n",
      "[165]\ttrain-auc:1.00000\tval-auc:0.81180\n",
      "[170]\ttrain-auc:1.00000\tval-auc:0.81198\n",
      "[175]\ttrain-auc:1.00000\tval-auc:0.81243\n",
      "[180]\ttrain-auc:1.00000\tval-auc:0.81234\n",
      "[185]\ttrain-auc:1.00000\tval-auc:0.81285\n",
      "[190]\ttrain-auc:1.00000\tval-auc:0.81291\n",
      "[195]\ttrain-auc:1.00000\tval-auc:0.81261\n",
      "[199]\ttrain-auc:1.00000\tval-auc:0.81259\n"
     ]
    }
   ],
   "source": [
    "# capturing the output below into a variable called output\n",
    "# %%capture output\n",
    "\n",
    "xgb_params = {\n",
    "    'eta': 0.3, # learning rate\n",
    "    'max_depth': 6,\n",
    "    'min_child_weight': 1, # same as min_samples_leaf\n",
    "    'ojective': 'binary:logistic',\n",
    "    'eval_metric':'auc',\n",
    "    'nthread': 2, # no. of cores\n",
    "    'seed': 1,\n",
    "    'verbosity':1\n",
    "}\n",
    "\n",
    "model = xgb.train(xgb_params, \n",
    "                  dtrain, num_boost_round=200, # num_boost_round = number of trees\n",
    "                  verbose_eval = 5, # print evaluation score every 5 steps\n",
    "                  evals=watchlist) "
   ]
  },
  {
   "cell_type": "markdown",
   "id": "cc179e2e",
   "metadata": {},
   "source": [
    "### SELECTING THE MODEL\n",
    "\n",
    "* Choosing between xgboost, random forest or decision tree\n",
    "* Training the final model\n",
    "* Saving the final model"
   ]
  },
  {
   "cell_type": "markdown",
   "id": "13200fe4",
   "metadata": {},
   "source": [
    "Creating and training the model with the best parameters."
   ]
  },
  {
   "cell_type": "code",
   "execution_count": 175,
   "id": "86009590",
   "metadata": {},
   "outputs": [
    {
     "data": {
      "text/plain": [
       "DecisionTreeClassifier(max_depth=6, min_samples_leaf=20)"
      ]
     },
     "execution_count": 175,
     "metadata": {},
     "output_type": "execute_result"
    }
   ],
   "source": [
    "df = DecisionTreeClassifier(max_depth=6, min_samples_leaf=20)\n",
    "df.fit(X_train, y_train)"
   ]
  },
  {
   "cell_type": "code",
   "execution_count": 180,
   "id": "fe6a04cf",
   "metadata": {},
   "outputs": [
    {
     "data": {
      "text/plain": [
       "0.8049636447398636"
      ]
     },
     "execution_count": 180,
     "metadata": {},
     "output_type": "execute_result"
    }
   ],
   "source": [
    "y_pred = dt.predict_proba(X_train)[:, 1]\n",
    "roc_auc_score(y_train, y_pred)"
   ]
  },
  {
   "cell_type": "code",
   "execution_count": 181,
   "id": "98deb586",
   "metadata": {},
   "outputs": [
    {
     "data": {
      "text/plain": [
       "RandomForestClassifier(max_depth=10, min_samples_leaf=3, n_estimators=200,\n",
       "                       random_state=1)"
      ]
     },
     "execution_count": 181,
     "metadata": {},
     "output_type": "execute_result"
    }
   ],
   "source": [
    "rf = RandomForestClassifier(n_estimators=200,\n",
    "                            max_depth=10,\n",
    "                            min_samples_leaf=3, \n",
    "                            random_state=1)\n",
    "\n",
    "rf.fit(X_train, y_train)"
   ]
  },
  {
   "cell_type": "code",
   "execution_count": 182,
   "id": "5c0577c4",
   "metadata": {},
   "outputs": [
    {
     "data": {
      "text/plain": [
       "0.8414442700156985"
      ]
     },
     "execution_count": 182,
     "metadata": {},
     "output_type": "execute_result"
    }
   ],
   "source": [
    "y_pred = rf.predict_proba(X_val)[:, 1]\n",
    "auc = roc_auc_score(y_val, y_pred)\n",
    "auc"
   ]
  },
  {
   "cell_type": "code",
   "execution_count": 183,
   "id": "8a25a0e6",
   "metadata": {},
   "outputs": [
    {
     "name": "stdout",
     "output_type": "stream",
     "text": [
      "[18:54:50] WARNING: C:/buildkite-agent/builds/buildkite-windows-cpu-autoscaling-group-i-08de971ced8a8cdc6-1/xgboost/xgboost-ci-windows/src/learner.cc:767: \n",
      "Parameters: { \"ojective\" } are not used.\n",
      "\n"
     ]
    }
   ],
   "source": [
    "xgb_params = {\n",
    "    'eta': 0.1, # learning rate\n",
    "    'max_depth': 1,\n",
    "    'min_child_weight': 1, # same as min_samples_leaf\n",
    "    'ojective': 'binary:logistic',\n",
    "    'eval_metric':'auc',\n",
    "    'nthread': 2, # no. of cores\n",
    "    'seed': 1,\n",
    "    'verbosity':1\n",
    "}\n",
    "\n",
    "model = xgb.train(xgb_params, \n",
    "                  dtrain, num_boost_round=175, # num_boost_round = number of trees\n",
    "                  verbose_eval = 5 # print evaluation score every 5 steps\n",
    "                  ) "
   ]
  },
  {
   "cell_type": "code",
   "execution_count": 184,
   "id": "879c1918",
   "metadata": {},
   "outputs": [
    {
     "data": {
      "text/plain": [
       "0.8347754607597128"
      ]
     },
     "execution_count": 184,
     "metadata": {},
     "output_type": "execute_result"
    }
   ],
   "source": [
    "y_pred = model.predict(dval)\n",
    "roc_auc_score(y_val, y_pred)"
   ]
  },
  {
   "cell_type": "markdown",
   "id": "6d010cd7",
   "metadata": {},
   "source": [
    "### Now Training The Whole Dataset"
   ]
  },
  {
   "cell_type": "code",
   "execution_count": 206,
   "id": "1eda9b7c",
   "metadata": {},
   "outputs": [],
   "source": [
    "df_full_train = full_train.reset_index(drop=True) "
   ]
  },
  {
   "cell_type": "code",
   "execution_count": 207,
   "id": "a47a6ccf",
   "metadata": {},
   "outputs": [],
   "source": [
    "y_full_train = (full_train.status == 'default').astype('int').values"
   ]
  },
  {
   "cell_type": "code",
   "execution_count": 215,
   "id": "09ef1fbb",
   "metadata": {},
   "outputs": [],
   "source": [
    "# remove the target column\n",
    "del df_full_train['status']"
   ]
  },
  {
   "cell_type": "code",
   "execution_count": 216,
   "id": "a6b53bde",
   "metadata": {},
   "outputs": [],
   "source": [
    "# convert train data to dictionary and then vectorize it\n",
    "dict_full_train = df_full_train.to_dict(orient='records')\n",
    "\n",
    "dv = DictVectorizer(sparse=False)\n",
    "X_full_train = dv.fit_transform(dict_full_train)"
   ]
  },
  {
   "cell_type": "code",
   "execution_count": 217,
   "id": "94a3b82f",
   "metadata": {},
   "outputs": [],
   "source": [
    "# convert the test data to dictionary then vectorize it\n",
    "dict_test = test.to_dict(orient='records')\n",
    "\n",
    "X_test = dv.transform(dict_test)"
   ]
  },
  {
   "cell_type": "code",
   "execution_count": 218,
   "id": "a230b94f",
   "metadata": {},
   "outputs": [],
   "source": [
    "# using the xgboost model\n",
    "dfulltrain = xgb.DMatrix(X_full_train, y_full_train, feature_names=dv.get_feature_names())\n",
    "\n",
    "# we mon't be using the y_test here because we won't be evaluating the model here. \n",
    "dtest = xgb.DMatrix(X_test, feature_names=dv.get_feature_names())"
   ]
  },
  {
   "cell_type": "code",
   "execution_count": 219,
   "id": "00188071",
   "metadata": {},
   "outputs": [
    {
     "name": "stdout",
     "output_type": "stream",
     "text": [
      "[19:37:30] WARNING: C:/buildkite-agent/builds/buildkite-windows-cpu-autoscaling-group-i-08de971ced8a8cdc6-1/xgboost/xgboost-ci-windows/src/learner.cc:767: \n",
      "Parameters: { \"ojective\" } are not used.\n",
      "\n"
     ]
    }
   ],
   "source": [
    "xgb_params = {\n",
    "    'eta': 0.1, # learning rate\n",
    "    'max_depth': 1,\n",
    "    'min_child_weight': 1, # same as min_samples_leaf\n",
    "    'ojective': 'binary:logistic',\n",
    "    'eval_metric':'auc',\n",
    "    'nthread': 2, # no. of cores\n",
    "    'seed': 1,\n",
    "    'verbosity':1\n",
    "}\n",
    "\n",
    "\n",
    "model = xgb.train(xgb_params, dfulltrain, num_boost_round=175)"
   ]
  },
  {
   "cell_type": "code",
   "execution_count": 220,
   "id": "7894d48c",
   "metadata": {},
   "outputs": [],
   "source": [
    "y_pred = model.predict(dtest)"
   ]
  },
  {
   "cell_type": "code",
   "execution_count": 221,
   "id": "adf3f977",
   "metadata": {},
   "outputs": [
    {
     "data": {
      "text/plain": [
       "0.8288349131593732"
      ]
     },
     "execution_count": 221,
     "metadata": {},
     "output_type": "execute_result"
    }
   ],
   "source": [
    "roc_auc_score(y_test, y_pred)"
   ]
  },
  {
   "cell_type": "markdown",
   "id": "84584f18",
   "metadata": {},
   "source": [
    "### SAVING THE MODEL"
   ]
  },
  {
   "cell_type": "code",
   "execution_count": 222,
   "id": "ef15aa9c",
   "metadata": {},
   "outputs": [],
   "source": [
    "import pickle"
   ]
  },
  {
   "cell_type": "code",
   "execution_count": 224,
   "id": "25a78da2",
   "metadata": {},
   "outputs": [],
   "source": [
    "with open('CredicScoreModel.bin', 'wb') as file:\n",
    "    pickle.dump((dv, model), file)"
   ]
  },
  {
   "cell_type": "code",
   "execution_count": null,
   "id": "6210941b",
   "metadata": {},
   "outputs": [],
   "source": []
  }
 ],
 "metadata": {
  "kernelspec": {
   "display_name": "Python 3",
   "language": "python",
   "name": "python3"
  },
  "language_info": {
   "codemirror_mode": {
    "name": "ipython",
    "version": 3
   },
   "file_extension": ".py",
   "mimetype": "text/x-python",
   "name": "python",
   "nbconvert_exporter": "python",
   "pygments_lexer": "ipython3",
   "version": "3.8.8"
  }
 },
 "nbformat": 4,
 "nbformat_minor": 5
}
